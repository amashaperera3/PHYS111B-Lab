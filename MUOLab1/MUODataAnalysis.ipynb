{
 "cells": [
  {
   "cell_type": "code",
   "execution_count": 52,
   "id": "9863313a",
   "metadata": {},
   "outputs": [],
   "source": [
    "import numpy as np\n",
    "import matplotlib.pyplot as plt\n",
    "import pandas as pd\n",
    "import glob"
   ]
  },
  {
   "cell_type": "markdown",
   "id": "e77c6ff9",
   "metadata": {},
   "source": [
    "## PART 8. ANALYSIS ##"
   ]
  },
  {
   "cell_type": "code",
   "execution_count": 105,
   "id": "42fce192",
   "metadata": {},
   "outputs": [
    {
     "data": {
      "text/html": [
       "<div>\n",
       "<style scoped>\n",
       "    .dataframe tbody tr th:only-of-type {\n",
       "        vertical-align: middle;\n",
       "    }\n",
       "\n",
       "    .dataframe tbody tr th {\n",
       "        vertical-align: top;\n",
       "    }\n",
       "\n",
       "    .dataframe thead th {\n",
       "        text-align: right;\n",
       "    }\n",
       "</style>\n",
       "<table border=\"1\" class=\"dataframe\">\n",
       "  <thead>\n",
       "    <tr style=\"text-align: right;\">\n",
       "      <th></th>\n",
       "      <th>Ch0_time1 (s)</th>\n",
       "      <th>Ch0_amp1 (V)</th>\n",
       "      <th>Ch0_width1 (s)</th>\n",
       "      <th>Ch0_time2 (s)</th>\n",
       "      <th>Ch0_amp2 (V)</th>\n",
       "      <th>Ch0_width2 (s)</th>\n",
       "    </tr>\n",
       "  </thead>\n",
       "  <tbody>\n",
       "    <tr>\n",
       "      <th>0</th>\n",
       "      <td>0.000005</td>\n",
       "      <td>0.109923</td>\n",
       "      <td>6.329651e-08</td>\n",
       "      <td>0.000009</td>\n",
       "      <td>0.096631</td>\n",
       "      <td>6.549559e-08</td>\n",
       "    </tr>\n",
       "    <tr>\n",
       "      <th>1</th>\n",
       "      <td>0.000005</td>\n",
       "      <td>0.169607</td>\n",
       "      <td>5.830529e-08</td>\n",
       "      <td>0.000007</td>\n",
       "      <td>0.051945</td>\n",
       "      <td>6.276378e-08</td>\n",
       "    </tr>\n",
       "    <tr>\n",
       "      <th>2</th>\n",
       "      <td>0.000005</td>\n",
       "      <td>0.383609</td>\n",
       "      <td>7.240353e-08</td>\n",
       "      <td>0.000007</td>\n",
       "      <td>0.028155</td>\n",
       "      <td>5.974480e-08</td>\n",
       "    </tr>\n",
       "    <tr>\n",
       "      <th>3</th>\n",
       "      <td>0.000005</td>\n",
       "      <td>0.287399</td>\n",
       "      <td>5.969916e-08</td>\n",
       "      <td>0.000007</td>\n",
       "      <td>0.028805</td>\n",
       "      <td>5.637531e-08</td>\n",
       "    </tr>\n",
       "    <tr>\n",
       "      <th>4</th>\n",
       "      <td>0.000005</td>\n",
       "      <td>0.304023</td>\n",
       "      <td>6.672957e-08</td>\n",
       "      <td>0.000007</td>\n",
       "      <td>0.026121</td>\n",
       "      <td>5.219281e-08</td>\n",
       "    </tr>\n",
       "    <tr>\n",
       "      <th>...</th>\n",
       "      <td>...</td>\n",
       "      <td>...</td>\n",
       "      <td>...</td>\n",
       "      <td>...</td>\n",
       "      <td>...</td>\n",
       "      <td>...</td>\n",
       "    </tr>\n",
       "    <tr>\n",
       "      <th>16093627</th>\n",
       "      <td>0.000005</td>\n",
       "      <td>0.106630</td>\n",
       "      <td>6.066292e-08</td>\n",
       "      <td>0.000006</td>\n",
       "      <td>0.022363</td>\n",
       "      <td>5.689425e-08</td>\n",
       "    </tr>\n",
       "    <tr>\n",
       "      <th>16093628</th>\n",
       "      <td>0.000005</td>\n",
       "      <td>0.184583</td>\n",
       "      <td>6.698751e-08</td>\n",
       "      <td>0.000010</td>\n",
       "      <td>0.048071</td>\n",
       "      <td>5.719445e-08</td>\n",
       "    </tr>\n",
       "    <tr>\n",
       "      <th>16093629</th>\n",
       "      <td>0.000005</td>\n",
       "      <td>0.189321</td>\n",
       "      <td>7.325029e-08</td>\n",
       "      <td>0.000007</td>\n",
       "      <td>0.020624</td>\n",
       "      <td>5.552941e-08</td>\n",
       "    </tr>\n",
       "    <tr>\n",
       "      <th>16093630</th>\n",
       "      <td>0.000005</td>\n",
       "      <td>0.111476</td>\n",
       "      <td>6.619136e-08</td>\n",
       "      <td>0.000039</td>\n",
       "      <td>0.023609</td>\n",
       "      <td>5.446449e-08</td>\n",
       "    </tr>\n",
       "    <tr>\n",
       "      <th>16093631</th>\n",
       "      <td>0.000005</td>\n",
       "      <td>0.261975</td>\n",
       "      <td>6.380193e-08</td>\n",
       "      <td>0.000007</td>\n",
       "      <td>0.020424</td>\n",
       "      <td>5.782308e-08</td>\n",
       "    </tr>\n",
       "  </tbody>\n",
       "</table>\n",
       "<p>16093632 rows × 6 columns</p>\n",
       "</div>"
      ],
      "text/plain": [
       "          Ch0_time1 (s)  Ch0_amp1 (V)  Ch0_width1 (s)  Ch0_time2 (s)  \\\n",
       "0              0.000005      0.109923    6.329651e-08       0.000009   \n",
       "1              0.000005      0.169607    5.830529e-08       0.000007   \n",
       "2              0.000005      0.383609    7.240353e-08       0.000007   \n",
       "3              0.000005      0.287399    5.969916e-08       0.000007   \n",
       "4              0.000005      0.304023    6.672957e-08       0.000007   \n",
       "...                 ...           ...             ...            ...   \n",
       "16093627       0.000005      0.106630    6.066292e-08       0.000006   \n",
       "16093628       0.000005      0.184583    6.698751e-08       0.000010   \n",
       "16093629       0.000005      0.189321    7.325029e-08       0.000007   \n",
       "16093630       0.000005      0.111476    6.619136e-08       0.000039   \n",
       "16093631       0.000005      0.261975    6.380193e-08       0.000007   \n",
       "\n",
       "          Ch0_amp2 (V)  Ch0_width2 (s)  \n",
       "0             0.096631    6.549559e-08  \n",
       "1             0.051945    6.276378e-08  \n",
       "2             0.028155    5.974480e-08  \n",
       "3             0.028805    5.637531e-08  \n",
       "4             0.026121    5.219281e-08  \n",
       "...                ...             ...  \n",
       "16093627      0.022363    5.689425e-08  \n",
       "16093628      0.048071    5.719445e-08  \n",
       "16093629      0.020624    5.552941e-08  \n",
       "16093630      0.023609    5.446449e-08  \n",
       "16093631      0.020424    5.782308e-08  \n",
       "\n",
       "[16093632 rows x 6 columns]"
      ]
     },
     "execution_count": 105,
     "metadata": {},
     "output_type": "execute_result"
    }
   ],
   "source": [
    "#1. Here we combine all the raw data and put it into a table\n",
    "def make_pretty(styler): #this creates the style for the table\n",
    "    styler.format_index(lambda v: v.strftime(\"%A\"))\n",
    "    styler.background_gradient(axis=None, vmin=1, vmax=5, cmap=\"YlGnBu\")\n",
    "    return styler\n",
    "\n",
    "file_paths = ['MUO_data.txt', 'MUO_data_2.txt', 'MUO_data_3.txt', 'MUO_overnight.txt', 'MUO_overnight_10m.txt', 'MUO_overnight_2.txt', 'MUO_overnight_3.txt', 'MUO_overnight_4.txt',]\n",
    "\n",
    "dataframes = []\n",
    "\n",
    "for file in file_paths: #this code runs through each file and appends the contents into dataframes to be concatenated\n",
    "    eachdata = pd.read_csv(file, skiprows=3, delimiter=\"\\t\")\n",
    "    eachdata = data.iloc[:, :6]\n",
    "    dataframes.append(eachdata)\n",
    "data = pd.concat(dataframes, ignore_index=True)\n",
    "\n",
    "data"
   ]
  },
  {
   "cell_type": "code",
   "execution_count": 106,
   "id": "56a3891a",
   "metadata": {},
   "outputs": [
    {
     "name": "stdout",
     "output_type": "stream",
     "text": [
      "Index(['Ch0_time1 (s)', 'Ch0_amp1 (V)', 'Ch0_width1 (s)', 'Ch0_time2 (s)',\n",
      "       'Ch0_amp2 (V)', 'Ch0_width2 (s)'],\n",
      "      dtype='object')\n"
     ]
    },
    {
     "data": {
      "text/plain": [
       "Text(0.5, 1.0, 'Heights of Pulse 1 and Pulse 2')"
      ]
     },
     "execution_count": 106,
     "metadata": {},
     "output_type": "execute_result"
    },
    {
     "data": {
      "image/png": "[encoded data removed]",
      "text/plain": [
       "<Figure size 432x288 with 1 Axes>"
      ]
     },
     "metadata": {
      "needs_background": "light"
     },
     "output_type": "display_data"
    }
   ],
   "source": [
    "#2. Here we examine the distribution of pulse heights and pulse widths\n",
    "data.columns\n",
    "print(data.columns)\n",
    "\n",
    "#heightdiff = combined_data['Ch0_amp2 (V)'] - combined_data['Ch0_amp1 (V)']\n",
    "p1height = data['Ch0_amp1 (V)']\n",
    "plt.hist(p1height, bins=50, label = 'Pulse 1 height', color = 'blue')\n",
    "p2height = data['Ch0_amp2 (V)']\n",
    "plt.hist(p2height, bins=50, label = 'Pulse 2 height', color = 'gold')\n",
    "plt.legend()\n",
    "plt.title('Heights of Pulse 1 and Pulse 2')"
   ]
  },
  {
   "cell_type": "code",
   "execution_count": 103,
   "id": "1b2b9b49",
   "metadata": {},
   "outputs": [
    {
     "data": {
      "text/plain": [
       "Text(0.5, 1.0, 'Widths of Pulse 1 and Pulse 2')"
      ]
     },
     "execution_count": 103,
     "metadata": {},
     "output_type": "execute_result"
    },
    {
     "data": {
      "image/png": "[encoded data removed]",
      "text/plain": [
       "<Figure size 432x288 with 1 Axes>"
      ]
     },
     "metadata": {
      "needs_background": "light"
     },
     "output_type": "display_data"
    }
   ],
   "source": [
    "#widthdiff = combined_data['Ch0_width2 (s)'] - combined_data['Ch0_width1 (s)']\n",
    "p1width = data['Ch0_width1 (s)']\n",
    "plt.hist(p1width, bins=100, label = 'Pulse 1 width', color = 'blue')\n",
    "p2width = data['Ch0_width2 (s)']\n",
    "plt.hist(p2width, bins=100, label = 'Pulse 2 width', color = 'gold')\n",
    "plt.xlim(-0.0000004, 0.0000004)\n",
    "plt.legend()\n",
    "plt.title('Widths of Pulse 1 and Pulse 2')"
   ]
  },
  {
   "cell_type": "markdown",
   "id": "152255b9",
   "metadata": {},
   "source": [
    "So we can see that..."
   ]
  },
  {
   "cell_type": "code",
   "execution_count": 141,
   "id": "ea5eb76b",
   "metadata": {},
   "outputs": [
    {
     "data": {
      "text/plain": [
       "Text(0.5, 1.0, 'Uncut Time Difference between Pulses 1 and 2')"
      ]
     },
     "execution_count": 141,
     "metadata": {},
     "output_type": "execute_result"
    },
    {
     "data": {
      "image/png": "[encoded data removed]",
      "text/plain": [
       "<Figure size 432x288 with 1 Axes>"
      ]
     },
     "metadata": {
      "needs_background": "light"
     },
     "output_type": "display_data"
    }
   ],
   "source": [
    "#Before applying cuts, we can first see what \n",
    "dt = data['Ch0_time2 (s)'] - data['Ch0_time1 (s)']\n",
    "plt.hist(dt, bins=100, label = 'dt of pulse 1', color = 'green')\n",
    "plt.legend()\n",
    "#plt.xlim(0.0000053, 0.0000056)\n",
    "plt.title('Uncut Time Difference between Pulses 1 and 2')"
   ]
  },
  {
   "cell_type": "code",
   "execution_count": 155,
   "id": "369d41fc",
   "metadata": {},
   "outputs": [
    {
     "name": "stdout",
     "output_type": "stream",
     "text": [
      "197312\n",
      "39424\n"
     ]
    }
   ],
   "source": [
    "#\n",
    "thresh_height = data['Ch0_amp1 (V)'].quantile(0.5)\n",
    "fil_height = data[data['Ch0_amp1 (V)']>0.5]\n",
    "#print(len(data['Ch0_amp1 (V)']))\n",
    "print(len(fil_height))\n",
    "\n",
    "#I think the section below take the time cut of the heights that matter and filter out the time data based on that but idk. My brain is deadge\n",
    "time_diff = fil_height[\"Ch0_time2 (s)\"] - fil_height[\"Ch0_time1 (s)\"]\n",
    "threshold2 = time_diff.quantile(1 - 0.2)\n",
    "df_filtered = fil_height[time_diff > threshold2]\n",
    "print(len(df_filtered))\n",
    "\n",
    "#plt.hist(fil_dt1, bins=100, label = 'dt of pulse 1', color = 'green')\n",
    "#plt.yscale(\"log\")\n",
    "#plt.xscale(\"log\")"
   ]
  },
  {
   "cell_type": "code",
   "execution_count": null,
   "id": "84e0ca31",
   "metadata": {},
   "outputs": [],
   "source": []
  }
 ],
 "metadata": {
  "kernelspec": {
   "display_name": "Python 3 (ipykernel)",
   "language": "python",
   "name": "python3"
  },
  "language_info": {
   "codemirror_mode": {
    "name": "ipython",
    "version": 3
   },
   "file_extension": ".py",
   "mimetype": "text/x-python",
   "name": "python",
   "nbconvert_exporter": "python",
   "pygments_lexer": "ipython3",
   "version": "3.9.7"
  }
 },
 "nbformat": 4,
 "nbformat_minor": 5
}
