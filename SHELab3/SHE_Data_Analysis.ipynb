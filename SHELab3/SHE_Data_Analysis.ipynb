{
 "cells": [
  {
   "cell_type": "code",
   "execution_count": 4,
   "id": "b1ec164c",
   "metadata": {},
   "outputs": [],
   "source": [
    "import numpy as np\n",
    "import pandas as pd\n",
    "import matplotlib.pyplot as plt\n",
    "from pathlib import Path"
   ]
  },
  {
   "cell_type": "code",
   "execution_count": 2,
   "id": "1ecd436f",
   "metadata": {},
   "outputs": [
    {
     "name": "stdout",
     "output_type": "stream",
     "text": [
      "#!/usr/bin/env python\r\n",
      "# coding: utf-8\r\n",
      "\r\n",
      "# In[1]:\r\n",
      "\r\n",
      "\r\n",
      "import numpy as np\r\n",
      "import pandas as pd\r\n",
      "import matplotlib.pyplot as plt\r\n",
      "\r\n",
      "\r\n",
      "# In[39]:\r\n",
      "\r\n",
      "\r\n",
      "#Semiconductor Dimensions\r\n",
      "width = 10.0/100\r\n",
      "length = 10.0/100\r\n",
      "thickness = 1.25/1000\r\n",
      "cross_area = width * thickness\r\n",
      "I = 100e-6\r\n",
      "q = 1.602e-19\r\n",
      "\r\n",
      "\r\n",
      "# ## 2000 G B-field ##\r\n",
      "\r\n",
      "# In[115]:\r\n",
      "\r\n",
      "\r\n",
      "# Load the 2000G raw data file\r\n",
      "df_2000G = pd.read_csv(\"2000G_100uA.csv\", sep=\"\\t\", engine=\"python\")\r\n",
      "\r\n",
      "# Convert required columns to numeric\r\n",
      "cols_to_convert = [\"Temperature (K)\", \"Voltage AC\", \"Voltage BD\", \"B-Field (Gauss)\"]\r\n",
      "for col in cols_to_convert:\r\n",
      "    df_2000G[col] = pd.to_numeric(df_2000G[col], errors=\"coerce\")\r\n",
      "\r\n",
      "# Drop rows with missing values in any of those columns\r\n",
      "df_2000G = df_2000G.dropna(subset=cols_to_convert)\r\n",
      "\r\n",
      "# Split the data into three B-field ranges\r\n",
      "df2000_B_neg = df_2000G[df_2000G[\"B-Field (Gauss)\"] < -1000].copy()\r\n",
      "df2000_B_zero = df_2000G[(df_2000G[\"B-Field (Gauss)\"] >= -1000) & (df_2000G[\"B-Field (Gauss)\"] <= 1000)].copy()\r\n",
      "df2000_B_pos = df_2000G[df_2000G[\"B-Field (Gauss)\"] > 1000].copy()\r\n",
      "\r\n",
      "for df in [df2000_B_neg, df2000_B_zero, df2000_B_pos]:\r\n",
      "    df[\"1/T (1/K)\"] = 1 / pd.to_numeric(df[\"Temperature (K)\"])\r\n",
      "    df[\"B (T)\"] = df[\"B-Field (Gauss)\"] / 1e4\r\n",
      "\r\n",
      "df2_B_neg = df2000_B_neg[[\"Temperature (K)\", \"1/T (1/K)\", \"Voltage AC\", \"Voltage BD\", \"B (T)\"]].to_numpy()\r\n",
      "df2_B_zero = df2000_B_zero[[\"Temperature (K)\", \"1/T (1/K)\", \"Voltage AC\", \"Voltage BD\", \"B (T)\"]].to_numpy()\r\n",
      "df2_B_pos = df2000_B_pos[[\"Temperature (K)\", \"1/T (1/K)\", \"Voltage AC\", \"Voltage BD\", \"B (T)\"]].to_numpy()\r\n",
      "\r\n",
      "\r\n",
      "# In[71]:\r\n",
      "\r\n",
      "\r\n",
      "#ROOM TEMPERATURE CALCULATION\r\n",
      "df_2000G['Temperature_Diff'] = np.abs(df_2000G['Temperature (K)'] - 300)\r\n",
      "room_temp_row = df_2000G.loc[df_2000G['Temperature_Diff'].idxmin()]\r\n",
      "\r\n",
      "T = room_temp_row['Temperature (K)']\r\n",
      "Res_avg = (room_temp_row['Voltage AC'] / room_temp_row['sample I BD'] +\r\n",
      "                         room_temp_row['Voltage BD'] / room_temp_row['sample I AC']) / 2\r\n",
      "Res = np.abs(Res_avg)\r\n",
      "V_hall = (room_temp_row['Voltage BD'] - room_temp_row['Voltage -BD']) / 2        # Hall voltage\r\n",
      "B_gauss = room_temp_row['B-Field (Gauss)']\r\n",
      "B_tesla = B_gauss * 1e-4  # In Tesla\r\n",
      "\r\n",
      "# Resistivity\r\n",
      "rho = Res*0.01 * (cross_area / length)\r\n",
      "\r\n",
      "# Hall Coefficient\r\n",
      "RH = (V_hall * thickness) / (I * B_tesla)\r\n",
      "\r\n",
      "# Magnetic field where E_Hall = E_resistive\r\n",
      "df_RT = df_2000G[(df_2000G[\"Temperature (K)\"] >= 295) & (df_2000G[\"Temperature (K)\"] <= 305)].copy()\r\n",
      "df_RT[\"|V_H - V_R|\"] = np.abs(df_RT[\"Voltage BD\"] - df_RT[\"Voltage AC\"])\r\n",
      "\r\n",
      "# Step 3: Find row with minimum difference\r\n",
      "best_match_idx = df_RT[\"|V_H - V_R|\"].idxmin()\r\n",
      "match = df_RT.loc[best_match_idx]\r\n",
      "\r\n",
      "\r\n",
      "# Output\r\n",
      "print(\"Since the length and width of the semiconductor are approximately equal, we can simply look at the B-field when the hall and resistive voltages are approximately equal.\")\r\n",
      "print(f\"Room Temperature (K): {T}\")\r\n",
      "print(f\"Resistance (Ohm): {Res:.3f}\")\r\n",
      "print(f\"Resistivity (Ohm·m): {rho:.6f}\")\r\n",
      "print(f\"Hall Coefficient RH (m^3/C): {RH:.6f}\")\r\n",
      "print(f\"B-field (Gauss) where V_H ≈ V_R: {match['B-Field (Gauss)']:.2f} G\")\r\n",
      "\r\n",
      "\r\n",
      "# In[109]:\r\n",
      "\r\n",
      "\r\n",
      "neg_temp = df2_B_neg[:, 0]\r\n",
      "neginv_temp = df2_B_neg[:, 1]\r\n",
      "negvolt_ac = df2_B_neg[:, 2]\r\n",
      "negvolt_bd = df2_B_neg[:, 3]\r\n",
      "negb_field = df2_B_neg[:, 4]\r\n",
      "\r\n",
      "pos_temp = df2_B_pos[:, 0]\r\n",
      "posinv_temp = df2_B_pos[:, 1]\r\n",
      "posvolt_ac = df2_B_pos[:, 2]\r\n",
      "posvolt_bd = df2_B_pos[:, 3]\r\n",
      "posb_field = df2_B_pos[:, 4]\r\n",
      "\r\n",
      "zero_temp = df2_B_zero[:, 0]\r\n",
      "zeroinv_temp = df2_B_zero[:, 1]\r\n",
      "zerovolt_ac = df2_B_zero[:, 2]\r\n",
      "zerovolt_bd = df2_B_zero[:, 3]\r\n",
      "zerob_field = df2_B_zero[:, 4]\r\n",
      "\r\n",
      "\r\n",
      "# In[110]:\r\n",
      "\r\n",
      "\r\n",
      "# Compute physical quantities - Negative\r\n",
      "neg_resis = np.abs((negvolt_ac / I) * 0.01 * cross_area / length)\r\n",
      "neg_conduc = 1 / neg_resis\r\n",
      "neg_RH = (negvolt_bd * thickness) / (I * negb_field)\r\n",
      "neg_concentration = 1 / (np.abs(neg_RH) * q)\r\n",
      "neg_mobility = np.abs(neg_RH) * neg_conduc\r\n",
      "neg_RH·σ = neg_RH * neg_conduc\r\n",
      "neg_semi_type = np.where(neg_RH > 0, \"p-type\", \"n-type\")\r\n",
      "\r\n",
      "# Compute physical quantities - Positive\r\n",
      "pos_resis = np.abs((posvolt_ac*0.01 * cross_area) / (I * length))\r\n",
      "pos_conduc = 1 / pos_resis\r\n",
      "pos_RH = (posvolt_bd * thickness) / (I * posb_field)\r\n",
      "pos_concentration = 1 / (np.abs(pos_RH) * q)\r\n",
      "pos_mobility = np.abs(pos_RH) * pos_conduc\r\n",
      "pos_RH·σ = pos_RH * pos_conduc\r\n",
      "pos_semi_type = np.where(pos_RH > 0, \"p-type\", \"n-type\")\r\n",
      "\r\n",
      "# Compute physical quantities - Zero\r\n",
      "zero_resis = np.abs((zerovolt_ac*0.01 * cross_area) / (I * length))\r\n",
      "zero_conduc = 1 / zero_resis\r\n",
      "zero_RH = (zerovolt_bd * thickness) / (I * zerob_field)\r\n",
      "zero_concentration = 1 / (np.abs(zero_RH) * q)\r\n",
      "zero_mobility = np.abs(zero_RH) * zero_conduc\r\n",
      "zero_RH·σ = zero_RH * zero_conduc\r\n",
      "zero_semi_type = np.where(zero_RH > 0, \"p-type\", \"n-type\") \r\n",
      "\r\n",
      "\r\n",
      "# Electron/Hole separation\r\n",
      "neg_n_holes = np.where(neg_RH > 0, neg_concentration, np.nan)\r\n",
      "neg_n_elec = np.where(neg_RH < 0, neg_concentration, np.nan)\r\n",
      "neg_mu_holes = np.where(neg_RH > 0, neg_mobility, np.nan)\r\n",
      "neg_mu_elec = np.where(neg_RH < 0, neg_mobility, np.nan)\r\n",
      "\r\n",
      "pos_n_holes = np.where(neg_RH > 0, neg_concentration, np.nan)\r\n",
      "pos_n_elec = np.where(neg_RH < 0, neg_concentration, np.nan)\r",
      "\r\n",
      "pos_mu_holes = np.where(neg_RH > 0, neg_mobility, np.nan)\r\n",
      "pos_mu_elec = np.where(neg_RH < 0, neg_mobility, np.nan)\r\n",
      "\r\n",
      "zero_n_holes = np.where(neg_RH > 0, neg_concentration, np.nan)\r\n",
      "zero_n_elec = np.where(neg_RH < 0, neg_concentration, np.nan)\r\n",
      "zero_mu_holes = np.where(neg_RH > 0, neg_mobility, np.nan)\r\n",
      "zero_mu_elec = np.where(neg_RH < 0, neg_mobility, np.nan)\r\n",
      "\r\n",
      "\r\n",
      "# neg_resis , \r\n",
      "# neg_conduc , \r\n",
      "# neg_RH , \r\n",
      "# neg_concentration , \r\n",
      "# neg_mobility , \r\n",
      "# neg_RH·σ , \r\n",
      "# neg_semi_type\r\n",
      "# \r\n",
      "# zero_resis , \r\n",
      "# zero_conduc , \r\n",
      "# zero_RH , \r\n",
      "# zero_concentration , \r\n",
      "# zero_mobility , \r\n",
      "# zero_RH·σ , \r\n",
      "# zero_semi_type\r\n",
      "# \r\n",
      "# pos_resis , \r\n",
      "# pos_conduc , \r\n",
      "# pos_RH , \r\n",
      "# pos_concentration , \r\n",
      "# pos_mobility , \r\n",
      "# pos_RH·σ , \r\n",
      "# pos_semi_type\r\n",
      "\r\n",
      "# In[107]:\r\n",
      "\r\n",
      "\r\n",
      "# RESISTIVITY VS INVERSE TEMPERATURE\r\n",
      "def plot_three_b_field_resis():\r\n",
      "    import matplotlib.pyplot as plt\r\n",
      "\r\n",
      "    fig, axs = plt.subplots(1, 3, figsize=(18, 5), sharey=False)\r\n",
      "\r\n",
      "    # B < -100 G\r\n",
      "    axs[0].plot(neginv_temp, neg_resis, '-o')\r\n",
      "    axs[0].set_title(\"B < -100 G\")\r\n",
      "    axs[0].set_xlabel(\"1/T (1/K)\")\r\n",
      "    axs[0].set_ylabel(\"Resistivity [Ω·m]\")\r\n",
      "    #axs[0].set_ylim(-0.002, 0.008)\r\n",
      "    #axs[0].legend()\r\n",
      "    axs[0].grid(True)\r\n",
      "\r\n",
      "    # -100 G ≤ B ≤ 100 G\r\n",
      "    axs[1].plot(zeroinv_temp, zero_resis, '-o')\r\n",
      "    axs[1].set_title(\"-100 G ≤ B ≤ 100 G\")\r\n",
      "    axs[1].set_xlabel(\"1/T (1/K)\")\r\n",
      "    #axs[1].set_ylim(-0.002, 0.004)\r\n",
      "    #axs[1].legend()\r\n",
      "    axs[1].grid(True)\r\n",
      "\r\n",
      "    # B > 100 G\r\n",
      "    axs[2].plot(posinv_temp, pos_resis, '-o')\r\n",
      "    axs[2].set_title(\"B > 100 G\")\r\n",
      "    axs[2].set_xlabel(\"1/T (1/K)\")\r\n",
      "    #axs[2].set_ylim(-0.002, 0.014)\r\n",
      "    #axs[2].legend()\r\n",
      "    axs[2].grid(True)\r\n",
      "    \r\n",
      "    plt.suptitle('Resistivity vs Inverse Temperature \\n B-field: 2000G, Current: 100uA', fontsize=18)\r\n",
      "\r\n",
      "    plt.tight_layout()\r\n",
      "    plt.show()\r\n",
      "    \r\n",
      "plot_three_b_field_resis()\r\n",
      "\r\n",
      "\r\n",
      "# [\"RH (m^3/C)\"]\r\n",
      "# [\"Carrier Concentration (1/m^3)\"]\r\n",
      "# [\"Mobility (m^2/Vs)\"]\r\n",
      "\r\n",
      "# In[102]:\r\n",
      "\r\n",
      "\r\n",
      "#CONDUCTIVITY VS INVERSE TEMPERATURE\r\n",
      "def plot_three_b_field_conduc():\r\n",
      "    import matplotlib.pyplot as plt\r\n",
      "\r\n",
      "    fig, axs = plt.subplots(1, 3, figsize=(18, 5), sharey=False)\r\n",
      "\r\n",
      "    # B < -100 G\r\n",
      "    axs[0].plot(neginv_temp, neg_conduc, '-o')\r\n",
      "    axs[0].set_title(\"B < -100 G\")\r\n",
      "    axs[0].set_xlabel(\"1/T (1/K)\")\r\n",
      "    axs[0].set_ylabel(\"Conductivity (S/m)\")\r\n",
      "    #axs[0].legend()\r\n",
      "    axs[0].grid(True)\r\n",
      "\r\n",
      "    # -100 G ≤ B ≤ 100 G\r\n",
      "    axs[1].plot(zeroinv_temp, zero_conduc, '-o')\r\n",
      "    axs[1].set_title(\"-100 G ≤ B ≤ 100 G\")\r\n",
      "    axs[1].set_xlabel(\"1/T (1/K)\")\r\n",
      "    #axs[1].legend()\r\n",
      "    axs[1].grid(True)\r\n",
      "\r\n",
      "    # B > 100 G\r\n",
      "    axs[2].plot(posinv_temp, pos_conduc, '-o')\r\n",
      "    axs[2].set_title(\"B > 100 G\")\r\n",
      "    axs[2].set_xlabel(\"1/T (1/K)\")\r\n",
      "    #axs[2].legend()\r\n",
      "    axs[2].grid(True)\r\n",
      "    \r\n",
      "    # Ensure y-ticks and labels on all plots\r\n",
      "    for ax in axs:\r\n",
      "        ax.yaxis.set_ticks_position('left')\r\n",
      "        ax.yaxis.set_label_position('left')\r\n",
      "        ax.tick_params(labelleft=True)\r\n",
      "    \r\n",
      "    plt.suptitle('Conductivity vs Inverse Temperature \\n B-field: 2000G, Current: 100uA', fontsize=18)\r\n",
      "\r\n",
      "    plt.tight_layout()\r\n",
      "    plt.show()\r\n",
      "    \r\n",
      "plot_three_b_field_conduc()\r\n",
      "\r\n",
      "\r\n",
      "# In[106]:\r\n",
      "\r\n",
      "\r\n",
      "# HALL COEFF VS INVERSE TEMPERATURE\r\n",
      "def plot_three_b_field_hall():\r\n",
      "    import matplotlib.pyplot as plt\r\n",
      "\r\n",
      "    fig, axs = plt.subplots(1, 3, figsize=(18, 5), sharey=False)\r\n",
      "\r\n",
      "    # B < -100 G\r\n",
      "    axs[0].plot(neginv_temp, neg_RH, '-o')\r\n",
      "    axs[0].set_title(\"B < -100 G\")\r\n",
      "    axs[0].set_xlabel(\"1/T (1/K)\")\r\n",
      "    axs[0].set_ylabel(\"RH (m^3/C)\")\r\n",
      "    #axs[0].set_ylim(-10, 5)\r\n",
      "    #axs[0].legend()\r\n",
      "    axs[0].grid(True)\r\n",
      "\r\n",
      "    # -100 G ≤ B ≤ 100 G\r\n",
      "    axs[1].plot(zeroinv_temp, zero_RH, '-o')\r\n",
      "    axs[1].set_title(\"-100 G ≤ B ≤ 100 G\")\r\n",
      "    axs[1].set_xlabel(\"1/T (1/K)\")\r\n",
      "    #axs[0].set_ylim(-90, 10)\r\n",
      "    #axs[1].legend()\r\n",
      "    axs[1].grid(True)\r\n",
      "\r\n",
      "    # B > 100 G\r\n",
      "    axs[2].plot(posinv_temp, pos_RH, '-o')\r\n",
      "    axs[2].set_title(\"B > 100 G\")\r\n",
      "    axs[2].set_xlabel(\"1/T (1/K)\")\r\n",
      "    #axs[0].set_ylim(-10, 10)\r\n",
      "    #axs[2].legend()\r\n",
      "    axs[2].grid(True)\r\n",
      "    \r\n",
      "    plt.suptitle('Hall Coefficient vs Inverse Temperature \\n B-field: 2000G, Current: 100uA', fontsize=18)\r\n",
      "\r\n",
      "    plt.tight_layout()\r\n",
      "    plt.show()\r\n",
      "    \r\n",
      "plot_three_b_field_hall()\r\n",
      "\r\n",
      "\r\n",
      "# In[117]:\r\n",
      "\r\n",
      "\r\n",
      "# CONCENTRATION VS TEMPERATURE\r\n",
      "def plot_three_b_field_concen():\r\n",
      "    import matplotlib.pyplot as plt\r\n",
      "\r\n",
      "    fig, axs = plt.subplots(1, 3, figsize=(18, 5), sharey=False)\r\n",
      "\r\n",
      "    # B < -100 G\r\n",
      "    axs[0].plot(neg_temp, np.log(neg_concentration), '-o')\r\n",
      "    axs[0].set_title(\"B < -100 G\")\r\n",
      "    axs[0].set_xlabel(\"1/T (1/K)\")\r\n",
      "    axs[0].set_ylabel(\"Carrier Concentration (1/m^3)\")\r\n",
      "    #axs[0].set_ylim(-10, 5)\r\n",
      "    #axs[0].legend()\r\n",
      "    axs[0].grid(True)\r\n",
      "\r\n",
      "    # -100 G ≤ B ≤ 100 G\r\n",
      "    axs[1].plot(zero_temp, np.log(zero_concentration), '-o')\r\n",
      "    axs[1].set_title(\"-100 G ≤ B ≤ 100 G\")\r\n",
      "    axs[1].set_xlabel(\"1/T (1/K)\")\r\n",
      "    #axs[0].set_ylim(-90, 10)\r\n",
      "    #axs[1].legend()\r\n",
      "    axs[1].grid(True)\r\n",
      "\r\n",
      "    # B > 100 G\r\n",
      "    axs[2].plot(pos_temp, np.log(pos_concentration), '-o')\r\n",
      "    axs[2].set_title(\"B > 100 G\")\r\n",
      "    axs[2].set_xlabel(\"1/T (1/K)\")\r\n",
      "    #axs[0].set_ylim(-10, 10)\r\n",
      "    #axs[2].legend()\r\n",
      "    axs[2].grid(True)\r\n",
      "    \r\n",
      "    plt.suptitle('Concentration vs Inverse Temperature \\n B-field: 2000G, Current: 100uA', fontsize=18)\r\n",
      "\r\n",
      "    plt.tight_layout()\r\n",
      "    plt.show()\r\n",
      "    \r\n",
      "plot_three_b_field_concen()\r\n",
      "\r\n",
      "\r\n",
      "# In[113]:\r\n",
      "\r\n",
      "\r\n",
      "# MOBILITY VS TEMPERATURE\r\n",
      "def plot_three_b_field_mobil():\r\n",
      "    import matplotlib.pyplot as plt\r\n",
      "\r\n",
      "    fig, axs = plt.subplots(1, 3, figsize=(18, 5), sharey=False)\r\n",
      "\r\n",
      "    # B < -100 G\r\n",
      "    axs[0].plot(neg_temp, neg_mobility, '-o')\r\n",
      "    axs[0].set_title(\"B < -100 G\")\r\n",
      "    axs[0].set_xlabel(\"1/T (1/K)\")\r\n",
      "    axs[0].set_ylabel(\"Mobility (m^2/Vs)\")\r\n",
      "    #axs[0].set_ylim(-10, 5)\r\n",
      "    #axs[0].legend()\r\n",
      "    axs[0].grid(True)\r\n",
      "\r\n",
      "    # -100 G ≤ B ≤ 100 G\r\n",
      "    axs[1].plot(zero_temp, zero_mobility, '-o')\r\n",
      "    axs[1].set_title(\"-100 G ≤ B ≤ 100 G\")\r\n",
      "    axs[1].set_xlabel(\"1/T (1/K)\")\r\n",
      "    #axs[0].set_ylim(-90, 10)\r\n",
      "    #axs[1].legend()\r\n",
      "    axs[1].grid(True)\r\n",
      "\r\n",
      "    # B > 100 G\r\n",
      "    axs[2].plot(pos_temp, pos_mobility, '-o')\r\n",
      "    axs[2].set_title(\"B > 100 G\")\r\n",
      "    axs[2].set_xlabel(\"1/T (1/K)\")\r\n",
      "    #axs[0].set_ylim(-10, 10)\r\n",
      "    #axs[2].legend()\r\n",
      "    axs[2].grid(True)\r\n",
      "    \r\n",
      "    plt.suptitle('Carrier Mobility vs Inverse Temperature \\n B-field: 2000G, Current: 100uA', fontsize=18)\r\n",
      "\r\n",
      "    plt.tight_layout()\r\n",
      "    plt.show()\r\n",
      "    \r\n",
      "plot_three_b_field_mobil()\r\n",
      "\r\n",
      "\r\n",
      "# In[ ]:\r\n",
      "\r\n",
      "\r\n",
      "\r\n",
      "\r\n"
     ]
    }
   ],
   "source": [
    "!cat SHE_Data_Analysis-6.py"
   ]
  },
  {
   "cell_type": "code",
   "execution_count": 5,
   "id": "d80edb71",
   "metadata": {},
   "outputs": [],
   "source": [
    "#Semiconductor Dimensions\n",
    "width = 10.0/100\n",
    "length = 10.0/100\n",
    "thickness = 1.25/1000\n",
    "cross_area = width * thickness\n",
    "I = 100e-6\n",
    "q = 1.602e-19"
   ]
  },
  {
   "cell_type": "code",
   "execution_count": 8,
   "id": "130b012d",
   "metadata": {},
   "outputs": [],
   "source": [
    "def analyze_hall_file(file_path, label=\"\", \n",
    "\n",
    "    T = \"Temperature (K)\",\n",
    "    B = \"B-Field (Gauss)\",\n",
    "    curr_AB = \"sample I AB\", \n",
    "    curr_nAB = \"sample I -AB\", \n",
    "                      \n",
    "    #longitudinal voltages\n",
    "    V_DC = \"Voltage DC\",\n",
    "    V_nDC = \"Voltage -DC\",\n",
    "    \n",
    "    #transverse voltages\n",
    "    V_AC = \"Voltage AC\",\n",
    "    V_nAC = \"Voltage -AC\",\n",
    "    V_BD = \"Voltage BD\",\n",
    "    V_nBD = \"Voltage -BD\",\n",
    "    assume_whitespace_if_not_csv=True,\n",
    "    zero_field_gauss=0.0,\n",
    "    plot=True,\n",
    "):\n",
    "    fp = Path(file_path)\n",
    "    # --- load ---\n",
    "    if fp.suffix.lower() == \".csv\":\n",
    "        df = pd.read_csv(fp)\n",
    "    else:\n",
    "        df = pd.read_csv(fp, sep=r\"\\s+\", engine=\"python\") if assume_whitespace_if_not_csv else pd.read_csv(fp)\n",
    "    \n",
    "    # --- numeric conversion ---\n",
    "    cols_to_convert = [T, B, curr_AB, curr_nAB, V_DC, V_nDC]\n",
    "    cols_to_convert += [V_AC, V_nAC]\n",
    "    for c in cols_to_convert:\n",
    "        if c not in df.columns:\n",
    "            raise KeyError(f\"Required column missing: {c}\")\n",
    "        df[c] = pd.to_numeric(df[c], errors=\"coerce\")\n",
    "        \n",
    "    # --- BD if it exists ---\n",
    "    has_bd = (V_BD in df.columns) and (V_nBD in df.columns)\n",
    "    if has_bd:\n",
    "        df[V_BD] = pd.to_numeric(df[V_BD], errors=\"coerce\")\n",
    "        df[V_nBD] = pd.to_numeric(df[V_nBD], errors=\"coerce\")\n",
    "    else:\n",
    "        print(\"⚠️ Note: BD pair not found; using AC only for Hall (still OK, just slightly less robust).\")\n",
    "\n",
    "    df = df.dropna(subset=[T, B, curr_AB, curr_nAB, V_DC, V_nDC, V_AC, V_nAC]).copy()\n",
    "    df = df.sort_values(T).reset_index(drop=True)\n",
    "    \n",
    "#----------------------------------------------------------------------------------------------------------------#\n",
    "\n",
    "    df[\"B_T\"] = df[B]/1e4\n",
    "    df[\"I_A\"] = 0.5*(df[curr_AB].abs() + df[curr_nAB].abs())\n",
    "    \n",
    "    # --- voltage asymmetries ---\n",
    "    df[\"Vxx\"] = 0.5*(df[V_DC]+df[V_nDC])\n",
    "    Vxy_AC = 0.5*(df[V_AC]-df[V_nAC])\n",
    "    if has_bd:\n",
    "        Vxy_BD = 0.5*(df[V_BD]-df[V_nBD])\n",
    "        df[\"Vxy\"] = 0.5(Vxy_AC + Vxy_BD)\n",
    "        df[\"Vxy_AC\"] = Vxy_AC\n",
    "        df[\"Vxy_BD\"] = Vxy_BD\n",
    "    else:\n",
    "        df[\"Vxy\"] = Vxy_AC\n",
    "        df[\"Vxy_AC\"] = Vxy_AC\n",
    "    \n",
    "    #"
   ]
  },
  {
   "cell_type": "code",
   "execution_count": 74,
   "id": "34b5ee95",
   "metadata": {},
   "outputs": [],
   "source": [
    "# find resistivity, hall coefficient, accuracy, type of semiconductor, transition temp'\n",
    "\n",
    "R_ABDC = df[\"Voltage DC\"]/df[\"sample I AB\"]\n",
    "R_ADBC = (df[\"Voltage BC\"])/(df[\"sample I AD\"])"
   ]
  },
  {
   "cell_type": "code",
   "execution_count": 75,
   "id": "ee177f6d",
   "metadata": {},
   "outputs": [
    {
     "data": {
      "text/plain": [
       "Index(['Temperature (K)', 'B-Field (Gauss)', 'sample I AB', 'sample I AD',\n",
       "       'sample I AC', 'sample I BD', 'sample I -AB', 'sample I -AD',\n",
       "       'sample I -AC', 'sample I -BD', 'Voltage DC', 'Voltage BC',\n",
       "       'Voltage BD', 'Voltage AC', 'Voltage -DC', 'Voltage -BC', 'Voltage -BD',\n",
       "       'Voltage -AC'],\n",
       "      dtype='object')"
      ]
     },
     "execution_count": 75,
     "metadata": {},
     "output_type": "execute_result"
    }
   ],
   "source": [
    "df.columns"
   ]
  },
  {
   "cell_type": "code",
   "execution_count": 194,
   "id": "80330179",
   "metadata": {},
   "outputs": [],
   "source": [
    "q=1.602e-19\n",
    "d = 1e-3\n",
    "gtt=1e-4\n",
    "B=df['B-Field (Gauss)']*gtt\n",
    "temp=np.array(df['Temperature (K)'])\n",
    "f = lambda x: 1/(np.cosh(x/2.403))\n",
    "rho = np.pi * d/np.log(2) * (R_ABDC + R_ADBC)/2 * f(R_ABDC/R_ADBC) #THIS IS RESISTIVITY in Ohm?"
   ]
  },
  {
   "cell_type": "code",
   "execution_count": 195,
   "id": "2b7b01cf",
   "metadata": {},
   "outputs": [
    {
     "data": {
      "text/plain": [
       "(0      0.714403\n",
       " 1      0.733905\n",
       " 2      0.755325\n",
       " 3      0.779507\n",
       " 4      0.802425\n",
       "          ...   \n",
       " 163   -0.034373\n",
       " 164   -0.038674\n",
       " 165   -0.044813\n",
       " 166   -0.049255\n",
       " 167   -0.054147\n",
       " Length: 168, dtype: float64,)"
      ]
     },
     "execution_count": 195,
     "metadata": {},
     "output_type": "execute_result"
    }
   ],
   "source": [
    "rho, "
   ]
  },
  {
   "cell_type": "code",
   "execution_count": 196,
   "id": "3b749e56",
   "metadata": {},
   "outputs": [
    {
     "data": {
      "text/plain": [
       "Text(0, 0.5, 'resistivity (m * ohm)?')"
      ]
     },
     "execution_count": 196,
     "metadata": {},
     "output_type": "execute_result"
    },
    {
     "data": {
      "image/png": "[encoded data removed]",
      "text/plain": [
       "<Figure size 432x288 with 1 Axes>"
      ]
     },
     "metadata": {
      "needs_background": "light"
     },
     "output_type": "display_data"
    }
   ],
   "source": [
    "plt.plot(np.array(df['Temperature (K)']), np.array(rho))\n",
    "plt.xlabel(\"Temperature (K)\")\n",
    "plt.ylabel(\"resistivity (m * ohm)?\") # outliter here"
   ]
  },
  {
   "cell_type": "code",
   "execution_count": 197,
   "id": "baf27b77",
   "metadata": {},
   "outputs": [
    {
     "name": "stdout",
     "output_type": "stream",
     "text": [
      "VHall is 0.00025375\n",
      "RHall is 4.470578005637466\n"
     ]
    }
   ],
   "source": [
    "#At room temp: 295.5K data point 133\n",
    "voltBD=df[\"Voltage BD\"][133]\n",
    "volt_BD=df[\"Voltage -BD\"][133]\n",
    "BDVHall=(voltBD-volt_BD)/2\n",
    "print('VHall is', BDVHall)\n",
    "VBDHall = (df[\"Voltage BD\"]-df[\"Voltage -BD\"])/2 #Hall Voltage\n",
    "IBDHall = df[\"sample I AC\"][133]\n",
    "df['Rhall'] = (BDVHall*d)/(IBDHall*B)\n",
    "print('RHall is', df['Rhall'][133])\n",
    "#RHall = (VBDHall*d)/(IBDHall*B)\n",
    "#RHall"
   ]
  },
  {
   "cell_type": "code",
   "execution_count": 198,
   "id": "e784f000",
   "metadata": {},
   "outputs": [
    {
     "name": "stdout",
     "output_type": "stream",
     "text": [
      "1.3962841595788516e+18 p-type semiconductor\n"
     ]
    }
   ],
   "source": [
    "currden = 1/(q*Rhall)\n",
    "ty = df['Rhall'].apply(lambda x: 'p-type semiconductor' if x > 0 else 'n-type semiconductor')\n",
    "typ = ty[133]\n",
    "print(currden, typ)"
   ]
  },
  {
   "cell_type": "code",
   "execution_count": 199,
   "id": "94ec6391",
   "metadata": {},
   "outputs": [
    {
     "data": {
      "text/plain": [
       "Text(0, 0.5, 'Hall Coeff')"
      ]
     },
     "execution_count": 199,
     "metadata": {},
     "output_type": "execute_result"
    },
    {
     "data": {
      "image/png": "[encoded data removed]",
      "text/plain": [
       "<Figure size 432x288 with 1 Axes>"
      ]
     },
     "metadata": {
      "needs_background": "light"
     },
     "output_type": "display_data"
    }
   ],
   "source": [
    "plt.plot(np.array(df['Temperature (K)']), np.array(RHall))\n",
    "plt.xlabel(\"Temperature (K)\")\n",
    "plt.ylabel(\"Hall Coeff\")"
   ]
  },
  {
   "cell_type": "code",
   "execution_count": 200,
   "id": "c506b662",
   "metadata": {},
   "outputs": [
    {
     "data": {
      "text/plain": [
       "Text(0, 0.5, 'Hall Coeff')"
      ]
     },
     "execution_count": 200,
     "metadata": {},
     "output_type": "execute_result"
    },
    {
     "data": {
      "image/png": "[encoded data removed]",
      "text/plain": [
       "<Figure size 432x288 with 1 Axes>"
      ]
     },
     "metadata": {
      "needs_background": "light"
     },
     "output_type": "display_data"
    }
   ],
   "source": [
    "plt.plot(np.array(df['Temperature (K)']), np.array(VBDHall))\n",
    "plt.xlabel(\"Temperature (K)\")\n",
    "plt.ylabel(\"Hall Coeff\")"
   ]
  },
  {
   "cell_type": "code",
   "execution_count": 201,
   "id": "4349c593",
   "metadata": {},
   "outputs": [
    {
     "data": {
      "text/plain": [
       "[<matplotlib.lines.Line2D at 0x7f8c3878c700>]"
      ]
     },
     "execution_count": 201,
     "metadata": {},
     "output_type": "execute_result"
    },
    {
     "data": {
      "image/png": "[encoded data removed]",
      "text/plain": [
       "<Figure size 432x288 with 1 Axes>"
      ]
     },
     "metadata": {
      "needs_background": "light"
     },
     "output_type": "display_data"
    }
   ],
   "source": [
    "mobil = 1/(rho*q)\n",
    "plt.plot(np.array(df['Temperature (K)']), np.array(mobil))"
   ]
  },
  {
   "cell_type": "code",
   "execution_count": 229,
   "id": "449586ec",
   "metadata": {},
   "outputs": [
    {
     "data": {
      "text/plain": [
       "Text(0, 0.5, 'Hall Coeff')"
      ]
     },
     "execution_count": 229,
     "metadata": {},
     "output_type": "execute_result"
    },
    {
     "data": {
      "image/png": "[encoded data removed]",
      "text/plain": [
       "<Figure size 432x288 with 1 Axes>"
      ]
     },
     "metadata": {
      "needs_background": "light"
     },
     "output_type": "display_data"
    }
   ],
   "source": [
    "VBDHall = (df[\"Voltage BD\"]-df[\"Voltage -BD\"])/2 #Hall Voltage\n",
    "#VHall = df[\"Voltage BD\"]\n",
    "IACHall = df[\"sample I AC\"]\n",
    "RHall1 = (VBDHall*d)/(IACHall*B)\n",
    "\n",
    "VACHall = (df[\"Voltage AC\"]-df[\"Voltage -AC\"])/2 #Hall Voltage\n",
    "IBDHall = df[\"sample I BD\"]\n",
    "RHall2 = (VACHall*d)/(IBDHall*B)\n",
    "\n",
    "V = -(VBDHall+VACHall)/2\n",
    "R = (V*d)/(IBDHall*B)\n",
    "\n",
    "plt.plot(np.array(temp), np.array(R))\n",
    "#plt.plot(np.array(temp), np.array(RHall1))\n",
    "#plt.plot(np.array(temp), np.array(RHall2))\n",
    "#plt.plot(np.array(RHall1), np.array(VBDHall))\n",
    "plt.xlabel(\"Temperature (K)\")\n",
    "plt.ylabel(\"Hall Coeff\")"
   ]
  },
  {
   "cell_type": "code",
   "execution_count": 214,
   "id": "d40541b5",
   "metadata": {},
   "outputs": [
    {
     "data": {
      "text/plain": [
       "[<matplotlib.lines.Line2D at 0x7f8c00166d30>]"
      ]
     },
     "execution_count": 214,
     "metadata": {},
     "output_type": "execute_result"
    },
    {
     "data": {
      "image/png": "[encoded data removed]",
      "text/plain": [
       "<Figure size 432x288 with 1 Axes>"
      ]
     },
     "metadata": {
      "needs_background": "light"
     },
     "output_type": "display_data"
    }
   ],
   "source": [
    "plt.plot(np.array(temp), np.array(VBDHall))"
   ]
  },
  {
   "cell_type": "code",
   "execution_count": 221,
   "id": "c91ae53d",
   "metadata": {},
   "outputs": [],
   "source": []
  },
  {
   "cell_type": "code",
   "execution_count": null,
   "id": "4d1caed2",
   "metadata": {},
   "outputs": [],
   "source": []
  }
 ],
 "metadata": {
  "kernelspec": {
   "display_name": "Python 3 (ipykernel)",
   "language": "python",
   "name": "python3"
  },
  "language_info": {
   "codemirror_mode": {
    "name": "ipython",
    "version": 3
   },
   "file_extension": ".py",
   "mimetype": "text/x-python",
   "name": "python",
   "nbconvert_exporter": "python",
   "pygments_lexer": "ipython3",
   "version": "3.9.7"
  }
 },
 "nbformat": 4,
 "nbformat_minor": 5
}
